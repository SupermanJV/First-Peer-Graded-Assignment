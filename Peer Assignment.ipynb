{
 "cells": [
  {
   "cell_type": "markdown",
   "id": "696538f9-6d2d-4342-9271-fd5975ccbc87",
   "metadata": {},
   "source": [
    "# Peer Graded Assignment"
   ]
  },
  {
   "cell_type": "markdown",
   "id": "a1eeabac-142e-4f34-ad09-fa15ab852102",
   "metadata": {},
   "source": [
    "_In this notebook is my first peer reviewed assignment_"
   ]
  },
  {
   "cell_type": "markdown",
   "id": "0d581f3c-4ae4-47c8-a9ca-0ef30070d204",
   "metadata": {},
   "source": [
    "__Top Data Science Languages__\n",
    "1. Python\n",
    "2. R\n",
    "3. SQL\n"
   ]
  },
  {
   "cell_type": "markdown",
   "id": "96713f2f-0643-43ed-b7e0-1aaf6c869f77",
   "metadata": {},
   "source": [
    "__Data Science Libraries__\n",
    "- Pandas\n",
    "- Keras\n",
    "- Tensorflow\n",
    "- MySQL"
   ]
  },
  {
   "cell_type": "markdown",
   "id": "30b5bff2-d905-493e-a832-09cf30aadca1",
   "metadata": {},
   "source": [
    "| Data Science Tools | \n",
    "| --- |\n",
    "| Apache Airflow |\n",
    "| Apache Spark |\n",
    "| Github |\n",
    "| Jupyter |\n",
    "| IBM DB2|"
   ]
  },
  {
   "cell_type": "markdown",
   "id": "7882b15e-4af4-43b4-b965-e1ae4028d83e",
   "metadata": {},
   "source": [
    " ### Below are examples of evaluating arithmetic expressions in Python"
   ]
  },
  {
   "cell_type": "code",
   "execution_count": 5,
   "id": "792ad6c4-770d-4081-bd64-952328842ce6",
   "metadata": {},
   "outputs": [
    {
     "data": {
      "text/plain": [
       "764"
      ]
     },
     "execution_count": 5,
     "metadata": {},
     "output_type": "execute_result"
    }
   ],
   "source": [
    "(47*16)+(4*3)"
   ]
  },
  {
   "cell_type": "code",
   "execution_count": 11,
   "id": "5b679c61-2a83-48e5-b41a-c79329a01e62",
   "metadata": {},
   "outputs": [
    {
     "name": "stdin",
     "output_type": "stream",
     "text": [
      "Enter number of minutes 120\n"
     ]
    },
    {
     "name": "stdout",
     "output_type": "stream",
     "text": [
      "2.0\n"
     ]
    }
   ],
   "source": [
    "minutes = float(input(\"Enter number of minutes\"))\n",
    "hours = minutes // 60\n",
    "print(hours)"
   ]
  },
  {
   "cell_type": "markdown",
   "id": "7064971c-e318-4474-b689-e6a9a3dd3b8d",
   "metadata": {},
   "source": [
    "**Objectives**\n",
    "- Introduction\n",
    "- Data Science Languages\n",
    "- Data Science Libraries\n",
    "- Data Science Tools\n",
    "- Arithmetic Expression Examples"
   ]
  },
  {
   "cell_type": "markdown",
   "id": "cb114a26-563e-44f3-9f12-c54e90eba638",
   "metadata": {},
   "source": [
    "## Author\n",
    "Joshua V."
   ]
  },
  {
   "cell_type": "code",
   "execution_count": null,
   "id": "c07484a9-4a8d-48a1-b814-6d0f522f467a",
   "metadata": {},
   "outputs": [],
   "source": []
  }
 ],
 "metadata": {
  "kernelspec": {
   "display_name": "Python",
   "language": "python",
   "name": "conda-env-python-py"
  },
  "language_info": {
   "codemirror_mode": {
    "name": "ipython",
    "version": 3
   },
   "file_extension": ".py",
   "mimetype": "text/x-python",
   "name": "python",
   "nbconvert_exporter": "python",
   "pygments_lexer": "ipython3",
   "version": "3.7.12"
  }
 },
 "nbformat": 4,
 "nbformat_minor": 5
}
